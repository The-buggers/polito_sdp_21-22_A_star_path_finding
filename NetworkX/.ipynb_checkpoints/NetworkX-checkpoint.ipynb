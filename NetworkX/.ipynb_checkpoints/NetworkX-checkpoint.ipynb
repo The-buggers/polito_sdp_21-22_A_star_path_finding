{
 "cells": [
  {
   "cell_type": "code",
   "execution_count": 4,
   "metadata": {},
   "outputs": [
    {
     "name": "stdout",
     "output_type": "stream",
     "text": [
      "Path from 0 to 23943 is:  [0, 307, 33163, 32882, 32885, 33174, 32424, 32425, 32868, 32869, 32870, 33523, 38946, 31410, 31411, 31412, 31413, 31414, 31429, 31430, 31431, 31447, 31448, 31266, 31043, 31445, 31443, 31436, 31435, 30673, 30672, 30677, 30676, 30675, 30674, 30667, 30666, 30669, 30668, 34433, 27273, 27229, 20455, 20454, 27217, 27216, 27222, 27221, 27220, 27219, 27218, 27089, 20452, 20453, 27224, 27223, 27225, 27227, 27228, 29434, 27215, 27107, 27108, 27109, 27110, 27112, 22627, 22626, 22629, 27175, 27120, 1358, 1357, 1461, 1460, 1468, 26696, 26695, 26697, 27142, 27143, 35756, 26676, 26677, 26678, 26680, 26681, 26682, 26683, 26684, 26638, 26629, 26628, 26635, 26592, 26591, 26593, 26594, 26580, 26579, 26581, 26596, 26080, 26027, 26031, 26059, 25988, 25672, 25673, 25978, 23750, 23751, 25538, 25537, 25536, 23715, 23716, 25601, 24010, 24014, 24007, 23908, 23909, 23913, 23912, 23914, 23999, 23917, 23918, 23919, 23922, 23923, 23924, 23927, 23928, 23931, 23932, 23935, 23936, 23939, 23940, 23943]\n",
      "Cost: 376201.0\n",
      "Elapsed Time: 0.203972000 seconds\n"
     ]
    }
   ],
   "source": [
    "import networkx as nx\n",
    "import numpy as np\n",
    "import matplotlib.pyplot as plt\n",
    "import sys\n",
    "import time\n",
    "import folium\n",
    "from folium.plugins import MarkerCluster\n",
    "import pandas as pd\n",
    "\n",
    "def dist(a, b):\n",
    "    (x1, y1) = nodes[a]\n",
    "    (x2, y2) = nodes[b]\n",
    "    return ((x1 - x2) ** 2 + (y1 - y2) ** 2) ** 0.5\n",
    "\n",
    "def euclidean_dist(x1,y1,x2,y2):\n",
    "    return round(np.sqrt((x1-x2)**2 + (y1-y2)**2), 1)\n",
    "\n",
    "def compute_heuristic(r, source, dest):\n",
    "    h = {}\n",
    "    for node in r.nodes:\n",
    "        h[node] = '%d | h=%.1f'%(node,round(dist(node, dest), 1))\n",
    "    return h\n",
    "\n",
    "def compute_path_cost(edges, path):\n",
    "    cost = 0\n",
    "    for i in range(len(path)-1):\n",
    "        for j in range(len(edges)):\n",
    "            if edges[j][0] == path[i] and edges[j][1] == path[i+1]:\n",
    "                cost += edges[j][2]\n",
    "                break\n",
    "    return cost\n",
    "\n",
    "def read_input(path):\n",
    "    n_line = 0\n",
    "    with open(path) as file:\n",
    "        node_position = {}\n",
    "        edges = []\n",
    "        for line in file:\n",
    "            if n_line == 0: # first line\n",
    "                n_nodes = int(line)\n",
    "            elif n_line >=1 and n_line <= n_nodes: # nodes lines\n",
    "                node_id, x, y = line.split()[0:3]\n",
    "                node_position[int(node_id)] = (float(x),float(y))\n",
    "            else: # edges\n",
    "                a, b, wt = line.split()[0:3]\n",
    "                edges.append((int(a),int(b),float(wt)))\n",
    "            n_line += 1\n",
    "    return node_position, edges\n",
    "\n",
    "def astar_path_wrapper(nodes, edges, source, dest, printg=True):\n",
    "    r = nx.DiGraph()\n",
    "    if source not in nodes or dest not in nodes:\n",
    "        print('Not valide source/dest')\n",
    "        return\n",
    "              \n",
    "    for node in nodes.keys():\n",
    "        r.add_node(node, pos=nodes[node])     \n",
    "    r.add_weighted_edges_from(edges)\n",
    "    \n",
    "    if printg:\n",
    "        plt.figure(figsize=(15,15))\n",
    "        pos = nx.get_node_attributes(r,'pos')\n",
    "        labels = nx.get_edge_attributes(r,'weight')\n",
    "        nx.draw_networkx(r, pos, arrows=True, labels=compute_heuristic(r, source, dest))\n",
    "        nx.draw_networkx_edge_labels(r,pos,edge_labels=labels)\n",
    "        plt.show()\n",
    "    try:\n",
    "        start = time.process_time()\n",
    "        path = nx.astar_path(r, source, dest, heuristic=dist, weight='weight')\n",
    "        stop = time.process_time()\n",
    "        cost = compute_path_cost(edges, path)\n",
    "        print('Path from %d to %d is: '%(source, dest) , path)\n",
    "        print('Cost: %.1f'%(cost))\n",
    "        print('Elapsed Time: %.9f seconds'%(stop - start))\n",
    "        return path\n",
    "    except:\n",
    "        print('No path path available from %d to %d'%(source, dest))\n",
    "        \n",
    "def all_simple_paths_wrapper(nodes, edges, source, dest):\n",
    "    r = nx.DiGraph()\n",
    "    if source not in nodes or dest not in nodes:\n",
    "        print('Not valide source/dest')\n",
    "        return\n",
    "              \n",
    "    for node in nodes.keys():\n",
    "        r.add_node(node, pos=nodes[node])     \n",
    "    r.add_weighted_edges_from(edges)\n",
    "    path = nx.all_simple_paths(r, source, dest)\n",
    "    print(list(path))\n",
    "nodes, edges = read_input('USA-road-d.BAY.txt')\n",
    "#astar_path_wrapper(nodes, edges, 0, 150, printg=False)\n",
    "path = astar_path_wrapper(nodes, edges, 0, 23943, printg=False)"
   ]
  },
  {
   "cell_type": "code",
   "execution_count": 8,
   "metadata": {},
   "outputs": [
    {
     "data": {
      "text/html": [
       "<div style=\"width:100%;\"><div style=\"position:relative;width:100%;height:0;padding-bottom:60%;\"><span style=\"color:#565656\">Make this Notebook Trusted to load map: File -> Trust Notebook</span><iframe srcdoc=\"&lt;!DOCTYPE html&gt;\n",
       "&lt;head&gt;    \n",
       "    &lt;meta http-equiv=&quot;content-type&quot; content=&quot;text/html; charset=UTF-8&quot; /&gt;\n",
       "    \n",
       "        &lt;script&gt;\n",
       "            L_NO_TOUCH = false;\n",
       "            L_DISABLE_3D = false;\n",
       "        &lt;/script&gt;\n",
       "    \n",
       "    &lt;style&gt;html, body {width: 100%;height: 100%;margin: 0;padding: 0;}&lt;/style&gt;\n",
       "    &lt;style&gt;#map {position:absolute;top:0;bottom:0;right:0;left:0;}&lt;/style&gt;\n",
       "    &lt;script src=&quot;https://cdn.jsdelivr.net/npm/leaflet@1.6.0/dist/leaflet.js&quot;&gt;&lt;/script&gt;\n",
       "    &lt;script src=&quot;https://code.jquery.com/jquery-1.12.4.min.js&quot;&gt;&lt;/script&gt;\n",
       "    &lt;script src=&quot;https://maxcdn.bootstrapcdn.com/bootstrap/3.2.0/js/bootstrap.min.js&quot;&gt;&lt;/script&gt;\n",
       "    &lt;script src=&quot;https://cdnjs.cloudflare.com/ajax/libs/Leaflet.awesome-markers/2.0.2/leaflet.awesome-markers.js&quot;&gt;&lt;/script&gt;\n",
       "    &lt;link rel=&quot;stylesheet&quot; href=&quot;https://cdn.jsdelivr.net/npm/leaflet@1.6.0/dist/leaflet.css&quot;/&gt;\n",
       "    &lt;link rel=&quot;stylesheet&quot; href=&quot;https://maxcdn.bootstrapcdn.com/bootstrap/3.2.0/css/bootstrap.min.css&quot;/&gt;\n",
       "    &lt;link rel=&quot;stylesheet&quot; href=&quot;https://maxcdn.bootstrapcdn.com/bootstrap/3.2.0/css/bootstrap-theme.min.css&quot;/&gt;\n",
       "    &lt;link rel=&quot;stylesheet&quot; href=&quot;https://maxcdn.bootstrapcdn.com/font-awesome/4.6.3/css/font-awesome.min.css&quot;/&gt;\n",
       "    &lt;link rel=&quot;stylesheet&quot; href=&quot;https://cdnjs.cloudflare.com/ajax/libs/Leaflet.awesome-markers/2.0.2/leaflet.awesome-markers.css&quot;/&gt;\n",
       "    &lt;link rel=&quot;stylesheet&quot; href=&quot;https://cdn.jsdelivr.net/gh/python-visualization/folium/folium/templates/leaflet.awesome.rotate.min.css&quot;/&gt;\n",
       "    \n",
       "            &lt;meta name=&quot;viewport&quot; content=&quot;width=device-width,\n",
       "                initial-scale=1.0, maximum-scale=1.0, user-scalable=no&quot; /&gt;\n",
       "            &lt;style&gt;\n",
       "                #map_4aefa543e59d333c9f375cd1cb6638bf {\n",
       "                    position: relative;\n",
       "                    width: 100.0%;\n",
       "                    height: 100.0%;\n",
       "                    left: 0.0%;\n",
       "                    top: 0.0%;\n",
       "                }\n",
       "            &lt;/style&gt;\n",
       "        \n",
       "&lt;/head&gt;\n",
       "&lt;body&gt;    \n",
       "    \n",
       "            &lt;div class=&quot;folium-map&quot; id=&quot;map_4aefa543e59d333c9f375cd1cb6638bf&quot; &gt;&lt;/div&gt;\n",
       "        \n",
       "&lt;/body&gt;\n",
       "&lt;script&gt;    \n",
       "    \n",
       "            var map_4aefa543e59d333c9f375cd1cb6638bf = L.map(\n",
       "                &quot;map_4aefa543e59d333c9f375cd1cb6638bf&quot;,\n",
       "                {\n",
       "                    center: [37.608914, -121.745853],\n",
       "                    crs: L.CRS.EPSG3857,\n",
       "                    zoom: 13,\n",
       "                    zoomControl: true,\n",
       "                    preferCanvas: false,\n",
       "                }\n",
       "            );\n",
       "\n",
       "            \n",
       "\n",
       "        \n",
       "    \n",
       "            var tile_layer_63fdf1f818c2ce55e71b982d528ba67a = L.tileLayer(\n",
       "                &quot;https://{s}.tile.openstreetmap.org/{z}/{x}/{y}.png&quot;,\n",
       "                {&quot;attribution&quot;: &quot;Data by \\u0026copy; \\u003ca href=\\&quot;http://openstreetmap.org\\&quot;\\u003eOpenStreetMap\\u003c/a\\u003e, under \\u003ca href=\\&quot;http://www.openstreetmap.org/copyright\\&quot;\\u003eODbL\\u003c/a\\u003e.&quot;, &quot;detectRetina&quot;: false, &quot;maxNativeZoom&quot;: 18, &quot;maxZoom&quot;: 18, &quot;minZoom&quot;: 0, &quot;noWrap&quot;: false, &quot;opacity&quot;: 1, &quot;subdomains&quot;: &quot;abc&quot;, &quot;tms&quot;: false}\n",
       "            ).addTo(map_4aefa543e59d333c9f375cd1cb6638bf);\n",
       "        \n",
       "&lt;/script&gt;\" style=\"position:absolute;width:100%;height:100%;left:0;top:0;border:none !important;\" allowfullscreen webkitallowfullscreen mozallowfullscreen></iframe></div></div>"
      ],
      "text/plain": [
       "<folium.folium.Map at 0x7febd12c3d60>"
      ]
     },
     "execution_count": 8,
     "metadata": {},
     "output_type": "execute_result"
    }
   ],
   "source": [
    "center = [nodes[0][1], nodes[0][0]]\n",
    "my_map = folium.Map(location = center, zoom_start = 13)\n",
    "for node in path"
   ]
  },
  {
   "cell_type": "code",
   "execution_count": 7,
   "metadata": {},
   "outputs": [
    {
     "data": {
      "text/plain": [
       "-121.745853"
      ]
     },
     "execution_count": 7,
     "metadata": {},
     "output_type": "execute_result"
    }
   ],
   "source": [
    "nodes[0][0]"
   ]
  },
  {
   "cell_type": "code",
   "execution_count": null,
   "metadata": {},
   "outputs": [],
   "source": []
  }
 ],
 "metadata": {
  "kernelspec": {
   "display_name": "Python 3 (ipykernel)",
   "language": "python",
   "name": "python3"
  },
  "language_info": {
   "codemirror_mode": {
    "name": "ipython",
    "version": 3
   },
   "file_extension": ".py",
   "mimetype": "text/x-python",
   "name": "python",
   "nbconvert_exporter": "python",
   "pygments_lexer": "ipython3",
   "version": "3.9.7"
  }
 },
 "nbformat": 4,
 "nbformat_minor": 4
}
