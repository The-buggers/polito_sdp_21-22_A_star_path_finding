{
 "cells": [
  {
   "cell_type": "code",
   "execution_count": 1,
   "metadata": {},
   "outputs": [],
   "source": [
    "def read_DIMACS(dimacs_co_file_path, dimacs_gr_file_path, output_file_path):\n",
    "    # Get number of lines(nodes)\n",
    "    with open(dimacs_co_file_path) as file:\n",
    "        x = len(file.readlines())\n",
    "    # Create output file\n",
    "    f = open(output_file_path, \"w\")\n",
    "    f.write('%d\\n'%(x))\n",
    "    # Get nodes coordinates\n",
    "    with open(dimacs_co_file_path) as file:\n",
    "        for line in file:\n",
    "            _, node_id, x, y = line.split()[0:4]\n",
    "            node_id = int(node_id)-1\n",
    "            x = float(x) / 10**6\n",
    "            y = float(y) / 10**6\n",
    "            f.write('%d %f %f\\n'%(node_id, x, y))\n",
    "    # Get edges\n",
    "    with open(dimacs_gr_file_path) as file:\n",
    "        for line in file:\n",
    "            _, x, y, wt = line.split()[0:4]\n",
    "            x = int(x)-1\n",
    "            y = int(y)-1\n",
    "            wt = float(wt)\n",
    "            f.write('%d %d %f\\n'%(x, y, wt))\n",
    "            \n",
    "def read_UTAH(utah_file_path_nodes, utah_file_path_edges, output_file_path):\n",
    "    # Get number of lines(nodes)\n",
    "    with open(utah_file_path_nodes) as file:\n",
    "        x = len(file.readlines())\n",
    "    # Create output file\n",
    "    f = open(output_file_path, \"w\")\n",
    "    f.write('%d\\n'%(x))\n",
    "    # Get nodes coordinates\n",
    "    with open(utah_file_path_nodes) as file:\n",
    "        for line in file:\n",
    "            node_id, lon, lat = line.split()[0:3]\n",
    "            node_id = int(node_id)\n",
    "            lon = float(lon)\n",
    "            lat = float(lat)\n",
    "            f.write('%d %f %f\\n'%(node_id, lon, lat))\n",
    "    # Get edges\n",
    "    with open(utah_file_path_edges) as file:\n",
    "        for line in file:\n",
    "            _, a, b, wt = line.split()[0:4]\n",
    "            a = int(a)\n",
    "            b = int(b)\n",
    "            wt = float(wt)\n",
    "            f.write('%d %d %f\\n'%(a, b, wt))\n",
    "read_DIMACS('USA-road-d.BAY.co', 'USA-road-d.BAY.gr', 'USA-road-d.BAY.txt')\n",
    "#read_UTAH('California-Road-Network-Nodes.txt', 'California-Road-Network-Edges.txt', 'California-Road-Network.txt')"
   ]
  }
 ],
 "metadata": {
  "kernelspec": {
   "display_name": "Python 3.8.10 64-bit",
   "language": "python",
   "name": "python3"
  },
  "language_info": {
   "codemirror_mode": {
    "name": "ipython",
    "version": 3
   },
   "file_extension": ".py",
   "mimetype": "text/x-python",
   "name": "python",
   "nbconvert_exporter": "python",
   "pygments_lexer": "ipython3",
   "version": "3.8.10"
  },
  "vscode": {
   "interpreter": {
    "hash": "916dbcbb3f70747c44a77c7bcd40155683ae19c65e1c03b4aa3499c5328201f1"
   }
  }
 },
 "nbformat": 4,
 "nbformat_minor": 4
}
